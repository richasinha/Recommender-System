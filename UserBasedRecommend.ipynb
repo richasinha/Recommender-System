{
 "cells": [
  {
   "cell_type": "code",
   "execution_count": 1,
   "metadata": {
    "collapsed": true
   },
   "outputs": [],
   "source": [
    "import pandas as pd\n",
    "import csv\n",
    "import itertools\n",
    "import collections\n",
    "import numpy as np\n",
    "from sklearn.metrics.pairwise import cosine_similarity\n",
    "from collections import OrderedDict"
   ]
  },
  {
   "cell_type": "code",
   "execution_count": 2,
   "metadata": {
    "collapsed": false
   },
   "outputs": [
    {
     "data": {
      "text/html": [
       "<div>\n",
       "<table border=\"1\" class=\"dataframe\">\n",
       "  <thead>\n",
       "    <tr style=\"text-align: right;\">\n",
       "      <th></th>\n",
       "      <th>User_ID</th>\n",
       "      <th>Anime_ID</th>\n",
       "      <th>Rating</th>\n",
       "      <th>Name</th>\n",
       "      <th>Genre</th>\n",
       "    </tr>\n",
       "  </thead>\n",
       "  <tbody>\n",
       "    <tr>\n",
       "      <th>0</th>\n",
       "      <td>1</td>\n",
       "      <td>20</td>\n",
       "      <td>6</td>\n",
       "      <td>Naruto</td>\n",
       "      <td>[0 0 0 0 0 0 0 0 1 0 0 0 0 0 0 0 0 0 0 0 0 0 0...</td>\n",
       "    </tr>\n",
       "    <tr>\n",
       "      <th>1017680</th>\n",
       "      <td>1</td>\n",
       "      <td>25099</td>\n",
       "      <td>7</td>\n",
       "      <td>Ore ga Ojousama Gakkou ni &amp;quot;Shomin Sample&amp;...</td>\n",
       "      <td>[0 0 0 0 0 0 1 0 1 0 1 0 0 0 0 0 0 0 0 0 1 0 0...</td>\n",
       "    </tr>\n",
       "    <tr>\n",
       "      <th>279047</th>\n",
       "      <td>1</td>\n",
       "      <td>5781</td>\n",
       "      <td>7</td>\n",
       "      <td>Isekai no Seikishi Monogatari</td>\n",
       "      <td>[0 0 0 0 0 0 0 0 1 0 1 0 1 0 0 0 0 0 0 0 1 0 0...</td>\n",
       "    </tr>\n",
       "    <tr>\n",
       "      <th>909095</th>\n",
       "      <td>1</td>\n",
       "      <td>20787</td>\n",
       "      <td>8</td>\n",
       "      <td>Black Bullet</td>\n",
       "      <td>[0 1 0 0 0 0 0 0 0 0 0 0 0 0 0 0 0 0 0 0 0 0 0...</td>\n",
       "    </tr>\n",
       "    <tr>\n",
       "      <th>1016051</th>\n",
       "      <td>1</td>\n",
       "      <td>24873</td>\n",
       "      <td>6</td>\n",
       "      <td>Juuou Mujin no Fafnir</td>\n",
       "      <td>[0 0 0 0 0 0 1 0 0 0 1 0 0 0 0 0 0 0 0 0 0 0 0...</td>\n",
       "    </tr>\n",
       "  </tbody>\n",
       "</table>\n",
       "</div>"
      ],
      "text/plain": [
       "         User_ID  Anime_ID  Rating  \\\n",
       "0              1        20       6   \n",
       "1017680        1     25099       7   \n",
       "279047         1      5781       7   \n",
       "909095         1     20787       8   \n",
       "1016051        1     24873       6   \n",
       "\n",
       "                                                      Name  \\\n",
       "0                                                   Naruto   \n",
       "1017680  Ore ga Ojousama Gakkou ni &quot;Shomin Sample&...   \n",
       "279047                       Isekai no Seikishi Monogatari   \n",
       "909095                                        Black Bullet   \n",
       "1016051                              Juuou Mujin no Fafnir   \n",
       "\n",
       "                                                     Genre  \n",
       "0        [0 0 0 0 0 0 0 0 1 0 0 0 0 0 0 0 0 0 0 0 0 0 0...  \n",
       "1017680  [0 0 0 0 0 0 1 0 1 0 1 0 0 0 0 0 0 0 0 0 1 0 0...  \n",
       "279047   [0 0 0 0 0 0 0 0 1 0 1 0 1 0 0 0 0 0 0 0 1 0 0...  \n",
       "909095   [0 1 0 0 0 0 0 0 0 0 0 0 0 0 0 0 0 0 0 0 0 0 0...  \n",
       "1016051  [0 0 0 0 0 0 1 0 0 0 1 0 0 0 0 0 0 0 0 0 0 0 0...  "
      ]
     },
     "execution_count": 2,
     "metadata": {},
     "output_type": "execute_result"
    }
   ],
   "source": [
    "file1 = \"UserMap.csv\"\n",
    "UserMap = pd.read_csv(file1, names = ['User_ID','Anime_ID','Rating','Name','Genre'], skiprows = 1)\n",
    "UserMap.head()"
   ]
  },
  {
   "cell_type": "code",
   "execution_count": 3,
   "metadata": {
    "collapsed": false
   },
   "outputs": [],
   "source": [
    "UserGenreDict = {}\n",
    "UserSeenMovies = {}\n",
    "UserFavMovies = {}\n",
    "for i,rowData in UserMap.iterrows():\n",
    "    x = rowData['Genre']\n",
    "    genre = []\n",
    "    for i in x:\n",
    "        if (i == '[') or (i == ']') or (i == ' ') or (i == '\\r') or (i=='\\n'):\n",
    "            continue\n",
    "        else:\n",
    "            genre.append(int(i))\n",
    "    if rowData['User_ID'] not in UserGenreDict:\n",
    "        UserGenreDict[rowData['User_ID']] = genre\n",
    "    else:\n",
    "        for i in genre:\n",
    "            UserGenreDict[rowData['User_ID']][i] += genre[i]\n",
    "    \n",
    "    if rowData['User_ID'] not in UserSeenMovies:\n",
    "        UserSeenMovies[rowData['User_ID']] = []\n",
    "        UserFavMovies[rowData['User_ID']] = []\n",
    "    UserSeenMovies[rowData['User_ID']].append(rowData['Anime_ID'])\n",
    "    if rowData['Rating'] > 7:\n",
    "        UserFavMovies[rowData['User_ID']].append(rowData['Anime_ID'])"
   ]
  },
  {
   "cell_type": "code",
   "execution_count": 4,
   "metadata": {
    "collapsed": false
   },
   "outputs": [],
   "source": [
    "def recommendMovies(UserID):\n",
    "    search = {}\n",
    "    x = UserGenreDict[UserID]\n",
    "    x = np.array(x).reshape((1,-1))\n",
    "    for i in UserGenreDict:\n",
    "        if i == UserID:\n",
    "            continue\n",
    "        else:\n",
    "            y = UserGenreDict[i]\n",
    "            y = np.array(y).reshape((1,-1))\n",
    "            cosineMeasure = cosine_similarity(x,y)\n",
    "            search[i] = cosineMeasure\n",
    "    search = OrderedDict(sorted(search.items(), key = lambda x: x[1], reverse = True))\n",
    "    recommendMovies = []\n",
    "    count = 0\n",
    "    for ID in search:\n",
    "        count += 1\n",
    "        for i in UserFavMovies[ID]:\n",
    "            if i not in UserSeenMovies[UserID]:\n",
    "                recommendMovies.append(i)\n",
    "        \n",
    "        if count > 3:\n",
    "            break\n",
    "    return recommendMovies"
   ]
  },
  {
   "cell_type": "code",
   "execution_count": 5,
   "metadata": {
    "collapsed": false
   },
   "outputs": [],
   "source": [
    "moviesToWatch = recommendMovies(1)"
   ]
  },
  {
   "cell_type": "code",
   "execution_count": 10,
   "metadata": {
    "collapsed": false
   },
   "outputs": [],
   "source": [
    "moviesRecommended = UserMap.loc[UserMap['Anime_ID'].isin(moviesToWatch) == True, ('Name')].head(25)"
   ]
  },
  {
   "cell_type": "code",
   "execution_count": 11,
   "metadata": {
    "collapsed": false
   },
   "outputs": [
    {
     "name": "stdout",
     "output_type": "stream",
     "text": [
      "1094617                              Hyouka\n",
      "1481509         Kuroko no Basket 2nd Season\n",
      "1515701                            Noragami\n",
      "1449391                             Btooom!\n",
      "1325032    Fullmetal Alchemist: Brotherhood\n",
      "1461473        Magi: The Labyrinth of Magic\n",
      "1530771                           Haikyuu!!\n",
      "1610624                       One Punch Man\n",
      "1109031                         Shaman King\n",
      "1582369                        Death Parade\n",
      "1574379                  Shokugeki no Souma\n",
      "1303454                          Soul Eater\n",
      "1639915            Hai to Gensou no Grimgar\n",
      "1441179                  Zetsuen no Tempest\n",
      "1352248                          Fairy Tail\n",
      "1506009     Sword Art Online: Extra Edition\n",
      "1489744                         Gin no Saji\n",
      "1493728          Magi: The Kingdom of Magic\n",
      "1461474        Magi: The Labyrinth of Magic\n",
      "1655543           Full Metal Panic? Fumoffu\n",
      "1735096               Ookami to Koushinryou\n",
      "1697306                           Samurai 7\n",
      "1352249                          Fairy Tail\n",
      "1664778                 Fullmetal Alchemist\n",
      "1749887            Ookami to Koushinryou II\n",
      "Name: Name, dtype: object\n"
     ]
    }
   ],
   "source": [
    "print moviesRecommended"
   ]
  },
  {
   "cell_type": "code",
   "execution_count": 13,
   "metadata": {
    "collapsed": false
   },
   "outputs": [
    {
     "name": "stdout",
     "output_type": "stream",
     "text": [
      "0                                                     Naruto\n",
      "1017680    Ore ga Ojousama Gakkou ni &quot;Shomin Sample&...\n",
      "279047                         Isekai no Seikishi Monogatari\n",
      "909095                                          Black Bullet\n",
      "1016051                                Juuou Mujin no Fafnir\n",
      "281566                                    Sora no Otoshimono\n",
      "875431                       Shingeki no Kyojin: Ano Hi Kara\n",
      "1077040                                    Grisaia no Rakuen\n",
      "1012569                               Madan no Ou to Vanadis\n",
      "601508                Boku wa Tomodachi ga Sukunai Episode 0\n",
      "573363                   Kore wa Zombie Desu ka? of the Dead\n",
      "438111                                         Hidan no Aria\n",
      "686579                         Dakara Boku wa, H ga Dekinai.\n",
      "505928                                        Ao no Exorcist\n",
      "1093903                                     Masou Gakuen HxH\n",
      "1080138                                               ReLIFE\n",
      "842539                                      Strike the Blood\n",
      "371910                                Ladies versus Butlers!\n",
      "760362                                   High School DxD New\n",
      "290331                                    Kuroshitsuji Recap\n",
      "1003683    Yahari Ore no Seishun Love Comedy wa Machigatt...\n",
      "291193                                               Kämpfer\n",
      "727576     Yahari Ore no Seishun Love Comedy wa Machigatt...\n",
      "67696                              Girls Bravo: First Season\n",
      "757727               Kore wa Zombie Desu ka? of the Dead OVA\n",
      "598565               Kami nomi zo Shiru Sekai: 4-nin to Idol\n",
      "918932                                   Seikoku no Dragonar\n",
      "1010191                    Taimadou Gakuen 35 Shiken Shoutai\n",
      "376441                                       Kiss x Sis (TV)\n",
      "143925                 Darker than Black: Kuro no Keiyakusha\n",
      "                                 ...                        \n",
      "499659                      Kami nomi zo Shiru Sekai: Flag 0\n",
      "701765                   Kono Naka ni Hitori, Imouto ga Iru!\n",
      "194128                                            To LOVE-Ru\n",
      "118824     Naruto Movie 2: Dai Gekitotsu! Maboroshi no Ch...\n",
      "202328                                               Sekirei\n",
      "819801                  Kami nomi zo Shiru Sekai: Megami-hen\n",
      "407694                                Highschool of the Dead\n",
      "306025                                      Seikon no Qwaser\n",
      "435070                              Kami nomi zo Shiru Sekai\n",
      "257942                                          Kuroshitsuji\n",
      "79887                                      Shakugan no Shana\n",
      "502147                            Itsuka Tenma no Kuro Usagi\n",
      "232104                                             Toradora!\n",
      "549186                           Kami nomi zo Shiru Sekai II\n",
      "650441                                      Sword Art Online\n",
      "859846                                               Nisekoi\n",
      "705368                          Guilty Crown: 4-koma Gekijou\n",
      "464898                                  IS: Infinite Stratos\n",
      "677850                                      Kuroko no Basket\n",
      "627045                                  Ao no Exorcist Movie\n",
      "211893                              Rosario to Vampire Capu2\n",
      "361837                                  Kuroshitsuji Special\n",
      "273845                              Sekirei: Pure Engagement\n",
      "535924                                   Seikon no Qwaser II\n",
      "137807                            Tengen Toppa Gurren Lagann\n",
      "591944                                          Guilty Crown\n",
      "369205                             Ichiban Ushiro no Daimaou\n",
      "867100                                        Date A Live II\n",
      "30566                                          School Rumble\n",
      "353639                             Dance in the Vampire Bund\n",
      "Name: Name, dtype: object\n"
     ]
    }
   ],
   "source": [
    "moviesSeen = UserMap.loc[UserMap['Anime_ID'].isin(UserSeenMovies[1]) == True,('Name')]\n",
    "print moviesSeen"
   ]
  },
  {
   "cell_type": "code",
   "execution_count": 16,
   "metadata": {
    "collapsed": false
   },
   "outputs": [
    {
     "name": "stdout",
     "output_type": "stream",
     "text": [
      "[39, 6, 0, 0, 0, 0, 0, 0, 1, 0, 0, 0, 0, 0, 0, 0, 0, 0, 1, 0, 0, 0, 0, 0, 0, 0, 1, 0, 0, 0, 0, 1, 0, 0, 0, 0, 1, 0, 1, 0, 0, 0, 0, 0]\n"
     ]
    }
   ],
   "source": [
    "print UserGenreDict[57]"
   ]
  },
  {
   "cell_type": "code",
   "execution_count": null,
   "metadata": {
    "collapsed": true
   },
   "outputs": [],
   "source": []
  }
 ],
 "metadata": {
  "kernelspec": {
   "display_name": "Python 2",
   "language": "python",
   "name": "python2"
  },
  "language_info": {
   "codemirror_mode": {
    "name": "ipython",
    "version": 2
   },
   "file_extension": ".py",
   "mimetype": "text/x-python",
   "name": "python",
   "nbconvert_exporter": "python",
   "pygments_lexer": "ipython2",
   "version": "2.7.13"
  }
 },
 "nbformat": 4,
 "nbformat_minor": 2
}
